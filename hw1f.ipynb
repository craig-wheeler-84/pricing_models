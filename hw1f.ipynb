{
 "cells": [
  {
   "cell_type": "code",
   "execution_count": 6,
   "id": "c4aa99c6",
   "metadata": {},
   "outputs": [
    {
     "name": "stdout",
     "output_type": "stream",
     "text": [
      "[0.00000e+00 2.74000e-03 1.92310e-02 3.84620e-02 8.33330e-02 1.66667e-01\n",
      " 2.50000e-01 5.00000e-01 7.50000e-01 1.00000e+00 1.50000e+00 2.00000e+00\n",
      " 3.00000e+00 4.00000e+00 5.00000e+00 6.00000e+00 7.00000e+00 8.00000e+00\n",
      " 9.00000e+00 1.00000e+01 1.20000e+01 1.50000e+01 2.00000e+01 2.50000e+01\n",
      " 3.00000e+01 3.50000e+01 4.00000e+01 5.00000e+01]\n",
      "[1.       0.999998 0.999988 0.999968 0.999863 0.99958  0.999221 0.998469\n",
      " 0.997648 0.997009 0.995881 0.994587 0.99116  0.985859 0.978506 0.969258\n",
      " 0.958769 0.947448 0.935469 0.92317  0.898432 0.862633 0.805639 0.7569\n",
      " 0.712878 0.677182 0.648566 0.61382 ]\n"
     ]
    }
   ],
   "source": [
    "import numpy as np\n",
    "import pandas as pd\n",
    "import matplotlib.pyplot as plt\n",
    "\n",
    "data = pd.read_csv('usd_curve.csv')\n",
    "times = data['t'].values\n",
    "df = data['df'].values\n",
    "\n",
    "class HullWhite:\n",
    "    def __init__(self, a, sigma, timesteps, x0=0):\n",
    "        self.a = a\n",
    "        self.sigma = sigma\n",
    "        self.timesteps = timesteps\n",
    "        self.x0 = x0\n",
    "        \n",
    "    def hw_exp(self, x, t1, t2):\n",
    "        return x * np.exp(-self.a * (t2 - t1))\n",
    "    \n",
    "    def hw_var(self, t1, t2):\n",
    "        return self.sigma ** 2 * (1 - np.exp)\n",
    "\n",
    "    def MC(self, sims):\n",
    "        x = np.zeros((sims, self.timesteps))\n",
    "        for i in range(sims):\n",
    "            x[i,0] = self.x0\n",
    "            for j in range(1, self.timesteps):\n",
    "                Z1 = np.random.normal(0,1)\n",
    "                x[i,j] = self.hw_exp(x[i,j-1], j-1, j) + Z1 * (self.hw(j-1,j) ** 0.5)\n",
    "        return x     \n",
    "    \n"
   ]
  },
  {
   "cell_type": "code",
   "execution_count": null,
   "id": "0fb5179d",
   "metadata": {},
   "outputs": [],
   "source": [
    "class DiscountFactors:\n",
    "    def __init__(self, a, sigma):\n",
    "        self.a = a\n",
    "        self.sigma = sigma\n",
    "        \n",
    "    def q_t(self, t, T):\n",
    "        "
   ]
  },
  {
   "cell_type": "code",
   "execution_count": null,
   "id": "10b34db6",
   "metadata": {},
   "outputs": [],
   "source": []
  }
 ],
 "metadata": {
  "kernelspec": {
   "display_name": "Python 3 (ipykernel)",
   "language": "python",
   "name": "python3"
  },
  "language_info": {
   "codemirror_mode": {
    "name": "ipython",
    "version": 3
   },
   "file_extension": ".py",
   "mimetype": "text/x-python",
   "name": "python",
   "nbconvert_exporter": "python",
   "pygments_lexer": "ipython3",
   "version": "3.11.4"
  }
 },
 "nbformat": 4,
 "nbformat_minor": 5
}
