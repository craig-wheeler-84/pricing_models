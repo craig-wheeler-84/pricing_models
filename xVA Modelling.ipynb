{
 "cells": [
  {
   "cell_type": "code",
   "execution_count": 7,
   "id": "12bdf687",
   "metadata": {},
   "outputs": [
    {
     "name": "stdout",
     "output_type": "stream",
     "text": [
      "[[ 100.  200.  400.  800. 1600.]\n",
      " [ 100.  200.  400.  800. 1600.]\n",
      " [ 100.  200.  400.  800. 1600.]\n",
      " [ 100.  200.  400.  800. 1600.]\n",
      " [ 100.  200.  400.  800. 1600.]\n",
      " [ 100.  200.  400.  800. 1600.]\n",
      " [ 100.  200.  400.  800. 1600.]\n",
      " [ 100.  200.  400.  800. 1600.]\n",
      " [ 100.  200.  400.  800. 1600.]\n",
      " [ 100.  200.  400.  800. 1600.]]\n"
     ]
    },
    {
     "data": {
      "text/plain": [
       "'\\nclass Scen_gen():\\n    def __init__(self, spot, drift, vol):\\n        self.spot = spot\\n        self.drift = drift\\n        self.vol = vol\\n        \\n    #def LV(self, s, t):               \\n    \\n    def MC(self, sims, timesteps, dt):\\n        x = np.zeros((sims, timesteps + 1))\\n        for i in range(sims):\\n            for j in range(timesteps + 1):\\n                z1 = np.random.normal(0, 1)\\n                if j == 0:\\n                    x[i, j] = self.spot  \\n                else:\\n                    x[i, j] = x[i, j - 1] * np.exp((self.drift - 0.5 * self.vol ** 2) * dt + (self.vol * dt ** 0.5 * z1))\\n        return x\\n\\n'"
      ]
     },
     "execution_count": 7,
     "metadata": {},
     "output_type": "execute_result"
    }
   ],
   "source": [
    "#basic CVA modelling\n",
    "\n",
    "import numpy as np\n",
    "import matplotlib.pyplot as plt\n",
    "\n",
    "#valuation function \n",
    "\n",
    "Forward = 100\n",
    "\n",
    "#simulate underlying \n",
    "\n",
    "def MC(spot, vol, drift, sims, timesteps):\n",
    "    MC = np.zeros((sims, timesteps))\n",
    "    for i in range(sims):\n",
    "        for j in range(timesteps):\n",
    "            if j == 0:\n",
    "                MC[i,j] = spot\n",
    "            else:\n",
    "                MC[i,j] = MC[i, j -1] * 2\n",
    "\n",
    "    return MC\n",
    "\n",
    "print(MC(100, 0.2, 0.02, 10, 5))\n",
    "\n",
    "\n",
    "\"\"\"\n",
    "class Scen_gen():\n",
    "    def __init__(self, spot, drift, vol):\n",
    "        self.spot = spot\n",
    "        self.drift = drift\n",
    "        self.vol = vol\n",
    "        \n",
    "    #def LV(self, s, t):               \n",
    "    \n",
    "    def MC(self, sims, timesteps, dt):\n",
    "        x = np.zeros((sims, timesteps + 1))\n",
    "        for i in range(sims):\n",
    "            for j in range(timesteps + 1):\n",
    "                z1 = np.random.normal(0, 1)\n",
    "                if j == 0:\n",
    "                    x[i, j] = self.spot  \n",
    "                else:\n",
    "                    x[i, j] = x[i, j - 1] * np.exp((self.drift - 0.5 * self.vol ** 2) * dt + (self.vol * dt ** 0.5 * z1))\n",
    "        return x\n",
    "\n",
    "\"\"\""
   ]
  },
  {
   "cell_type": "code",
   "execution_count": 4,
   "id": "ceae9581",
   "metadata": {},
   "outputs": [
    {
     "data": {
      "text/plain": [
       "array([-0.03491325, -0.0116061 ,  0.01240868, -0.00517319, -0.02057375])"
      ]
     },
     "execution_count": 4,
     "metadata": {},
     "output_type": "execute_result"
    }
   ],
   "source": []
  },
  {
   "cell_type": "code",
   "execution_count": 10,
   "id": "e49af20b",
   "metadata": {},
   "outputs": [
    {
     "name": "stdout",
     "output_type": "stream",
     "text": [
      "[[0.02 0.   0.   ... 0.   0.   0.  ]\n",
      " [0.02 0.   0.   ... 0.   0.   0.  ]\n",
      " [0.02 0.   0.   ... 0.   0.   0.  ]\n",
      " ...\n",
      " [0.02 0.   0.   ... 0.   0.   0.  ]\n",
      " [0.02 0.   0.   ... 0.   0.   0.  ]\n",
      " [0.02 0.   0.   ... 0.   0.   0.  ]]\n",
      "CVA for IRS: 5381415.162654762\n",
      "CVA for Swaption: 0.0\n"
     ]
    },
    {
     "data": {
      "text/plain": [
       "\"\\n# Plot EPE\\nplt.plot(time_points, epe, label='EPE')\\nplt.xlabel('Time (years)')\\nplt.ylabel('Expected Positive Exposure')\\nplt.title('Expected Positive Exposure of the Portfolio')\\nplt.legend()\\nplt.show()\\n\\n\""
      ]
     },
     "execution_count": 10,
     "metadata": {},
     "output_type": "execute_result"
    }
   ],
   "source": [
    "import numpy as np\n",
    "import matplotlib.pyplot as plt\n",
    "\n",
    "# Define Portfolio\n",
    "notional_irs = 1e7  # Notional of IRS\n",
    "fixed_rate_irs = 0.02  # Fixed rate of IRS\n",
    "maturity_irs = 5  # Maturity of IRS in years\n",
    "\n",
    "notional_swaption = 0  # Notional of Swaption\n",
    "fixed_rate_swaption = 0.02  # Fixed rate of Swaption\n",
    "maturity_swaption = 5  # Maturity of Swaption in years\n",
    "exercise_time = 2  # Exercise time of Swaption in years\n",
    "\n",
    "# Simulation Parameters\n",
    "n_paths = 1000  # Number of simulated paths\n",
    "n_steps = 50  # Number of time steps\n",
    "dt = maturity_irs / n_steps  # Time step size\n",
    "interest_rate_vol = 0.2  # Interest rate volatility\n",
    "\n",
    "# Simulate Interest Rate Paths\n",
    "r = np.zeros((n_steps, n_paths))\n",
    "r[:, 0] = 0.02  # Initial interest rate\n",
    "print(r)\n",
    "for t in range(1, n_steps):\n",
    "    dw = np.sqrt(dt) * np.random.normal(size=n_paths)\n",
    "    dr = interest_rate_vol * dw\n",
    "    r[t, :] = r[t-1, :] + dr\n",
    "\n",
    "# Calculate Exposure for IRS and Swaption\n",
    "exposure_irs = np.maximum(notional_irs * (r - fixed_rate_irs) * dt, 0)\n",
    "exposure_swaption = np.maximum(\n",
    "    notional_swaption * np.maximum(r[exercise_time, :] - fixed_rate_swaption, 0) * dt, 0)\n",
    "\n",
    "# Calculate CVA\n",
    "cva_irs = np.mean(np.sum(exposure_irs, axis=0))\n",
    "cva_swaption = np.mean(exposure_swaption)\n",
    "\n",
    "print(\"CVA for IRS:\", cva_irs)\n",
    "print(\"CVA for Swaption:\", cva_swaption)\n",
    "\n",
    "\n",
    "# Define the time points\n",
    "time_points = np.linspace(0, maturity_irs, n_steps)\n",
    "\n",
    "# Calculate Exposure for IRS and Swaption at each time point and each path\n",
    "exposure_irs = np.maximum(notional_irs * (r - fixed_rate_irs) * dt, 0)\n",
    "exposure_swaption = np.zeros_like(exposure_irs)\n",
    "exposure_swaption[exercise_time:, :] = np.maximum(notional_swaption * (r[exercise_time:, :] - fixed_rate_swaption) * dt, 0)\n",
    "\n",
    "# Calculate the total exposure of the portfolio at each time point and each path\n",
    "total_exposure = exposure_irs + exposure_swaption\n",
    "\n",
    "# Calculate EPE at each time point\n",
    "epe = np.mean(np.maximum(total_exposure, 0), axis=1)\n",
    "\n",
    "\"\"\"\n",
    "# Plot EPE\n",
    "plt.plot(time_points, epe, label='EPE')\n",
    "plt.xlabel('Time (years)')\n",
    "plt.ylabel('Expected Positive Exposure')\n",
    "plt.title('Expected Positive Exposure of the Portfolio')\n",
    "plt.legend()\n",
    "plt.show()\n",
    "\n",
    "\"\"\""
   ]
  },
  {
   "cell_type": "code",
   "execution_count": null,
   "id": "6b76fb4b",
   "metadata": {},
   "outputs": [],
   "source": [
    "import numpy as np\n",
    "\n",
    "sims = 2\n",
    "timesteps = 2\n",
    "counter = 1\n",
    "\n",
    "MC = np.zeros((sims, timesteps, counter))\n",
    "print(MC)\n",
    "\n",
    "for i in range(sims):\n",
    "    for j in range(timesteps):\n",
    "        for k in range(counter):\n",
    "            counter += 1\n",
    "            "
   ]
  },
  {
   "cell_type": "code",
   "execution_count": null,
   "id": "fb8d8abc",
   "metadata": {},
   "outputs": [],
   "source": []
  }
 ],
 "metadata": {
  "kernelspec": {
   "display_name": "Python 3 (ipykernel)",
   "language": "python",
   "name": "python3"
  },
  "language_info": {
   "codemirror_mode": {
    "name": "ipython",
    "version": 3
   },
   "file_extension": ".py",
   "mimetype": "text/x-python",
   "name": "python",
   "nbconvert_exporter": "python",
   "pygments_lexer": "ipython3",
   "version": "3.11.4"
  }
 },
 "nbformat": 4,
 "nbformat_minor": 5
}
