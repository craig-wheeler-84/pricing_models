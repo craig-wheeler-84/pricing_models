{
 "cells": [
  {
   "cell_type": "code",
   "execution_count": 22,
   "id": "504e17e4",
   "metadata": {},
   "outputs": [
    {
     "name": "stdout",
     "output_type": "stream",
     "text": [
      "[[[1.   0.99 0.97 0.95]\n",
      "  [0.   0.99 0.97 0.95]\n",
      "  [0.   0.   0.97 0.95]\n",
      "  [0.   0.   0.   0.95]]\n",
      "\n",
      " [[1.   0.99 0.97 0.95]\n",
      "  [0.   0.99 0.97 0.95]\n",
      "  [0.   0.   0.97 0.95]\n",
      "  [0.   0.   0.   0.95]]\n",
      "\n",
      " [[1.   0.99 0.97 0.95]\n",
      "  [0.   0.99 0.97 0.95]\n",
      "  [0.   0.   0.97 0.95]\n",
      "  [0.   0.   0.   0.95]]\n",
      "\n",
      " [[1.   0.99 0.97 0.95]\n",
      "  [0.   0.99 0.97 0.95]\n",
      "  [0.   0.   0.97 0.95]\n",
      "  [0.   0.   0.   0.95]]\n",
      "\n",
      " [[1.   0.99 0.97 0.95]\n",
      "  [0.   0.99 0.97 0.95]\n",
      "  [0.   0.   0.97 0.95]\n",
      "  [0.   0.   0.   0.95]]]\n"
     ]
    }
   ],
   "source": [
    "#upper right diagonal\n",
    "\n",
    "import numpy as np\n",
    "\n",
    "sims = 5\n",
    "timesteps = (1, 0.99, 0.97, 0.95)\n",
    "\n",
    "MC = np.zeros((sims, len(timesteps), len(timesteps)))\n",
    "\n",
    "\n",
    "for i in range(sims):\n",
    "    for j in range(len(timesteps)):\n",
    "        for k in range(j, len(timesteps)):\n",
    "           MC[i, j, k] = timesteps[k]\n",
    "\n",
    "print(MC)"
   ]
  },
  {
   "cell_type": "code",
   "execution_count": 24,
   "id": "dc58de58",
   "metadata": {},
   "outputs": [
    {
     "name": "stdout",
     "output_type": "stream",
     "text": [
      "[[[1.   0.   0.   0.  ]\n",
      "  [1.   0.99 0.   0.  ]\n",
      "  [1.   0.99 0.97 0.  ]\n",
      "  [1.   0.99 0.97 0.95]]\n",
      "\n",
      " [[1.   0.   0.   0.  ]\n",
      "  [1.   0.99 0.   0.  ]\n",
      "  [1.   0.99 0.97 0.  ]\n",
      "  [1.   0.99 0.97 0.95]]\n",
      "\n",
      " [[1.   0.   0.   0.  ]\n",
      "  [1.   0.99 0.   0.  ]\n",
      "  [1.   0.99 0.97 0.  ]\n",
      "  [1.   0.99 0.97 0.95]]\n",
      "\n",
      " [[1.   0.   0.   0.  ]\n",
      "  [1.   0.99 0.   0.  ]\n",
      "  [1.   0.99 0.97 0.  ]\n",
      "  [1.   0.99 0.97 0.95]]\n",
      "\n",
      " [[1.   0.   0.   0.  ]\n",
      "  [1.   0.99 0.   0.  ]\n",
      "  [1.   0.99 0.97 0.  ]\n",
      "  [1.   0.99 0.97 0.95]]]\n"
     ]
    }
   ],
   "source": [
    "#bottom left  diagonal\n",
    "\n",
    "import numpy as np\n",
    "\n",
    "sims = 5\n",
    "timesteps = (1, 0.99, 0.97, 0.95)\n",
    "\n",
    "MC = np.zeros((sims, len(timesteps), len(timesteps)))\n",
    "\n",
    "\n",
    "for i in range(sims):\n",
    "    for j in range(len(timesteps)):\n",
    "        for k in range(j+1):\n",
    "           MC[i, j, k] = timesteps[k]\n",
    "\n",
    "print(MC)"
   ]
  },
  {
   "cell_type": "code",
   "execution_count": null,
   "id": "c844dbfb",
   "metadata": {},
   "outputs": [],
   "source": []
  }
 ],
 "metadata": {
  "kernelspec": {
   "display_name": "Python 3 (ipykernel)",
   "language": "python",
   "name": "python3"
  },
  "language_info": {
   "codemirror_mode": {
    "name": "ipython",
    "version": 3
   },
   "file_extension": ".py",
   "mimetype": "text/x-python",
   "name": "python",
   "nbconvert_exporter": "python",
   "pygments_lexer": "ipython3",
   "version": "3.11.4"
  }
 },
 "nbformat": 4,
 "nbformat_minor": 5
}
