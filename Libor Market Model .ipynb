{
 "cells": [
  {
   "cell_type": "code",
   "execution_count": null,
   "id": "49221420",
   "metadata": {},
   "outputs": [],
   "source": [
    "import pandas as pd\n",
    "import numpy as np\n",
    "\n",
    "# Constants\n",
    "days = 252\n",
    "\n",
    "file_name = 'input_file.xlsx'\n",
    "\n",
    "xl = pd.ExcelFile(file_name)\n",
    "sheet = xl.parse('LMM Currency two')\n",
    "\n",
    "NumDays = \n",
    "periods = \n",
    "Numsim = \n",
    "Whichsim = \n",
    "Floor = \n",
    "yrdays = \n",
    "\n",
    "# Initializing arrays with zeros\n",
    "Fwd = np.zeros((Numsim, NumDays + 2, periods + 1))\n",
    "Dev = np.zeros((Numsim, NumDays))\n",
    "Timestep = np.zeros(periods + 1)\n",
    "correl = np.zeros(periods + 1)\n",
    "fwdvol = np.zeros(periods + 1)\n",
    "Notional = np.zeros(periods + 1)\n",
    "Orgswrt = np.zeros(periods + 1)\n",
    "\n",
    "# Initializing other variables\n",
    "SumBnd = 0\n",
    "SumFlt = 0\n",
    "SumBndAvt = 0\n",
    "SumFltAvt = 0\n",
    "OrgSumBnd = 0\n",
    "OrgSumFlt = 0\n",
    "\n",
    "# Initializing the variables\n",
    "for k in range(periods):\n",
    "    Timestep[k] = sheet.iloc[3 + k, 13] / yrdays\n",
    "    correl[k] = sheet.iloc[2 + k, 17]\n",
    "    fwdvol[k] = sheet.iloc[2 + k, 16]\n",
    "    Orgswrt[k] = sheet.iloc[2 + k, 10]\n",
    "\n",
    "for k in range(periods - 1):\n",
    "    Notional[k] = sheet.iloc[2 + k, 12]\n",
    "\n",
    "\n",
    "\n"
   ]
  }
 ],
 "metadata": {
  "kernelspec": {
   "display_name": "Python 3 (ipykernel)",
   "language": "python",
   "name": "python3"
  },
  "language_info": {
   "codemirror_mode": {
    "name": "ipython",
    "version": 3
   },
   "file_extension": ".py",
   "mimetype": "text/x-python",
   "name": "python",
   "nbconvert_exporter": "python",
   "pygments_lexer": "ipython3",
   "version": "3.11.4"
  }
 },
 "nbformat": 4,
 "nbformat_minor": 5
}
