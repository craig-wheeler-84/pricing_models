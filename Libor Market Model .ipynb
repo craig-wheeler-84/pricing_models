{
 "cells": [
  {
   "cell_type": "code",
   "execution_count": 13,
   "id": "13f290c0",
   "metadata": {},
   "outputs": [
    {
     "name": "stdout",
     "output_type": "stream",
     "text": [
      "[[[1.         0.98019867 0.95982913 0.93894347 0.91759423 0.89583414]\n",
      "  [0.         1.         1.01870213 1.04477121 1.07302289 1.09849042]\n",
      "  [0.         0.         1.         1.02883109 1.05107061 1.07556111]\n",
      "  [0.         0.         0.         1.         1.02398725 1.04577937]\n",
      "  [0.         0.         0.         0.         1.         1.02132682]]\n",
      "\n",
      " [[1.         0.98019867 0.95982913 0.93894347 0.91759423 0.89583414]\n",
      "  [0.         1.         1.01859494 1.04459222 1.06882242 1.09075835]\n",
      "  [0.         0.         1.         1.02539143 1.05222558 1.07292777]\n",
      "  [0.         0.         0.         1.         1.02162463 1.03866835]\n",
      "  [0.         0.         0.         0.         1.         1.02076611]]\n",
      "\n",
      " [[1.         0.98019867 0.95982913 0.93894347 0.91759423 0.89583414]\n",
      "  [0.         1.         1.02106891 1.03814491 1.07075395 1.09763045]\n",
      "  [0.         0.         1.         1.0188384  1.04576493 1.07457879]\n",
      "  [0.         0.         0.         1.         1.01978135 1.05989578]\n",
      "  [0.         0.         0.         0.         1.         1.04064987]]\n",
      "\n",
      " [[1.         0.98019867 0.95982913 0.93894347 0.91759423 0.89583414]\n",
      "  [0.         1.         1.02073682 1.03668008 1.05578558 1.07763816]\n",
      "  [0.         0.         1.         1.0155016  1.03467437 1.05036089]\n",
      "  [0.         0.         0.         1.         1.01903157 1.03229857]\n",
      "  [0.         0.         0.         0.         1.         1.01727647]]\n",
      "\n",
      " [[1.         0.98019867 0.95982913 0.93894347 0.91759423 0.89583414]\n",
      "  [0.         1.         1.01784959 1.0343343  1.06717682 1.09600865]\n",
      "  [0.         0.         1.         1.01201931 1.03469879 1.06930492]\n",
      "  [0.         0.         0.         1.         1.02953889 1.06125804]\n",
      "  [0.         0.         0.         0.         1.         1.02305607]]]\n"
     ]
    }
   ],
   "source": [
    "import pandas as pd\n",
    "import numpy as np\n",
    "\n",
    "days = 252\n",
    "\n",
    "periods = 5\n",
    "Nums = periods \n",
    "sim = 5\n",
    "fwd = np.zeros((sim, Nums, periods))\n",
    "Dev = np.zeros((sim, Nums))\n",
    "Timestep = np.zeros(periods + 1)\n",
    "correl = np.zeros(periods + 1)\n",
    "fwdvol = np.zeros(periods + 1)\n",
    "Notional = np.zeros(periods + 1)\n",
    "fixed_rate = np.zeros(periods + 1)\n",
    "df = np.zeros((sim, Nums, periods + 1))\n",
    "MtM = np.zeros((sim, periods))\n",
    "sumfxd = 0\n",
    "sumflt = 0\n",
    "Orgsumfxd = 0\n",
    "Orgsumflt = 0\n",
    "\n",
    "\n",
    "for k in range(periods + 1):\n",
    "    Timestep[k] = 1\n",
    "    correl[k] = 1\n",
    "    fwdvol[k] = 0.2\n",
    "    fixed_rate[k]= 0.01\n",
    "    Notional[k] = 1000000\n",
    "    \n",
    "#print(Timestep)\n",
    "\n",
    "\n",
    "for i in range(sim):\n",
    "    df[i, 0, 0] = 1\n",
    "    j = 0\n",
    "    for k in range(periods):\n",
    "        fwd[i, 0, k] = 0.02 + k * 0.001\n",
    "        df[i, j, k + 1] = np.exp(-fwd[i, j, k] * Timestep[k]) * df[i, j, k]\n",
    "        Orgsumfxd += Notional[k] * fixed_rate[k] * df[i, j, k + 1]\n",
    "        Orgsumflt += Notional[k] * fwd[i, j, k] * df[i, j, k + 1]\n",
    "\n",
    "    #print(OrgSumFxd)\n",
    "    #print(OrgSumFlt)\n",
    "\n",
    "    for j in range(1, periods):\n",
    "        drift = 0    \n",
    "        for k in range(j, periods):\n",
    "            Z1 = np.random.normal(0,1)\n",
    "            drift += (Timestep[k-1] * fwd[i, j-1, k] * fwdvol[j] * correl[k-1]) / (1 + fwd[i, j-1, k] * Timestep[k-1]) \n",
    "            fwd[i, j, k] = fwd[i, j-1, k] * np.exp((drift * fwdvol[k-1] - 0.5 * fwdvol[k-1] ** 2) * Timestep[k-1] + fwdvol[k-1] * Timestep[k-1] ** 0.5 * Z1)\n",
    "            df[i, j, j] = 1\n",
    "            df[i, j, k + 1] = np.exp(fwd[i, j, k] * Timestep[k]) * df[i, j, k]\n",
    "            \n",
    "            sumfxd += Timestep[k] * Notional[k] * fixed_rate[k] * df[i, j, k + 1]\n",
    "            sumflt += Timestep[k] * Notional[k] * fwd[i, j, k] * df[i, j, k + 1]\n",
    "            \n",
    "        MtM[i, j] = sumfxd + sumflt\n",
    "    \n",
    "print(df)\n",
    "#print(fwd)\n",
    "\n",
    "#these shouldnt be 1's"
   ]
  },
  {
   "cell_type": "code",
   "execution_count": 122,
   "id": "ba06ea69",
   "metadata": {},
   "outputs": [
    {
     "name": "stdout",
     "output_type": "stream",
     "text": [
      "[[    0.         97370.33017611 67694.6738257  49119.43053822\n",
      "  18983.61009961]]\n",
      "149945.82461598358\n"
     ]
    }
   ],
   "source": []
  },
  {
   "cell_type": "code",
   "execution_count": 5,
   "id": "1555dbca",
   "metadata": {},
   "outputs": [
    {
     "name": "stdout",
     "output_type": "stream",
     "text": [
      "Simulation 1:\n",
      "[[1. 0. 0. 0. 0. 0.]\n",
      " [0. 1. 0. 0. 0. 0.]\n",
      " [0. 0. 1. 0. 0. 0.]\n",
      " [0. 0. 0. 1. 0. 0.]\n",
      " [0. 0. 0. 0. 1. 0.]]\n",
      "\n",
      "Simulation 2:\n",
      "[[1. 0. 0. 0. 0. 0.]\n",
      " [0. 1. 0. 0. 0. 0.]\n",
      " [0. 0. 1. 0. 0. 0.]\n",
      " [0. 0. 0. 1. 0. 0.]\n",
      " [0. 0. 0. 0. 1. 0.]]\n",
      "\n",
      "Simulation 3:\n",
      "[[1. 0. 0. 0. 0. 0.]\n",
      " [0. 1. 0. 0. 0. 0.]\n",
      " [0. 0. 1. 0. 0. 0.]\n",
      " [0. 0. 0. 1. 0. 0.]\n",
      " [0. 0. 0. 0. 1. 0.]]\n",
      "\n"
     ]
    }
   ],
   "source": []
  },
  {
   "cell_type": "code",
   "execution_count": 4,
   "id": "70536acd",
   "metadata": {},
   "outputs": [
    {
     "name": "stdout",
     "output_type": "stream",
     "text": [
      "C:\\Users\\Laptop\\pricing_models\n"
     ]
    }
   ],
   "source": [
    "import os\n",
    "current_path = os.getcwd()\n",
    "print(current_path)"
   ]
  },
  {
   "cell_type": "code",
   "execution_count": null,
   "id": "59389ec3",
   "metadata": {},
   "outputs": [],
   "source": []
  }
 ],
 "metadata": {
  "kernelspec": {
   "display_name": "Python 3 (ipykernel)",
   "language": "python",
   "name": "python3"
  },
  "language_info": {
   "codemirror_mode": {
    "name": "ipython",
    "version": 3
   },
   "file_extension": ".py",
   "mimetype": "text/x-python",
   "name": "python",
   "nbconvert_exporter": "python",
   "pygments_lexer": "ipython3",
   "version": "3.11.4"
  }
 },
 "nbformat": 4,
 "nbformat_minor": 5
}
