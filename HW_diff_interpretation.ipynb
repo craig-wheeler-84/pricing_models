{
 "cells": [
  {
   "cell_type": "code",
   "execution_count": 38,
   "id": "3ad6ac9b",
   "metadata": {},
   "outputs": [
    {
     "name": "stdout",
     "output_type": "stream",
     "text": [
      "[0.         0.008      0.009      0.00967286 0.01012714 0.01045888\n",
      " 0.01070671 0.01091176 0.01112265 0.01137372 0.01164382 0.01193241\n",
      " 0.01225005 0.01260018 0.01296052 0.01332245 0.01368341 0.01404082\n",
      " 0.01439209 0.01473464 0.0150659  0.01538526 0.01569885 0.01600814\n",
      " 0.01631282 0.01661257 0.0169071  0.01719607 0.01747919 0.01775661\n",
      " 0.01803003 0.01829998 0.01856654 0.01882978 0.01908978 0.01934662\n",
      " 0.01960038 0.01985114 0.02009898 0.02034397 0.02058619]\n"
     ]
    }
   ],
   "source": [
    "#HW implementation\n",
    "\n",
    "import numpy as np\n",
    "import pandas as pd\n",
    "import matplotlib.pyplot as plt\n",
    "from scipy.interpolate import CubicSpline\n",
    "\n",
    "t = [0.25, 0.5, 1, 2, 3, 5, 7, 10, 20]\n",
    "zero_curve = [0.008, 0.0085, 0.0092, 0.01,  0.0106, 0.0119, 0.0132, 0.015, 0.02]\n",
    "\n",
    "sig = 0.01\n",
    "a = 0.1\n",
    "fixed_rate = 0.0149\n",
    "\n",
    "timesteps = np.arange(0, 10.25, 0.25)\n",
    "\n",
    "cs = CubicSpline(t, zero_curve)\n",
    "short_rate = cs(timesteps)\n",
    "df = np.exp(- timesteps * short_rate)\n",
    "\n",
    "dt = np.zeros(len(timesteps) )\n",
    "fwd = np.zeros(len(timesteps) )\n",
    "beta = np.zeros(len(timesteps) )\n",
    "B = np.zeros(len(timesteps))\n",
    "fwdswapval = np.zeros(len(timesteps))\n",
    "\n",
    "for i in range(1, len(timesteps)):\n",
    "    dt[i] = timesteps[i] - timesteps[i - 1]\n",
    "    fwd[i] = -np.log(df[i]/df[i - 1])/dt[i]\n",
    "    beta[i] = fwd[i] + (sig * (1 - np.exp(-a *  timesteps[i]))/ (a * np.sqrt(2)))**2\n",
    "    B[i] = (1 - np.exp(-a * timesteps[i])) / a\n",
    "\n",
    "#for i in range(i, len(timesteps) ):\n",
    "#    fwdswapval[i] = np.sum(df[i:len(timesteps)]) * dt[i] * fixed_rate - (df[i] - df[len(timesteps) ])\n",
    "    \n",
    "# LOOK INTO FORWARD RATE BEING DELTA FROM EXPIRY TO TODAY OF DF'S - THINK IT MAKES SENSE\n",
    "#print(fwdswapval)\n",
    "\n",
    "print(fwd)"
   ]
  },
  {
   "cell_type": "code",
   "execution_count": null,
   "id": "cdfb4472",
   "metadata": {},
   "outputs": [],
   "source": []
  }
 ],
 "metadata": {
  "kernelspec": {
   "display_name": "Python 3 (ipykernel)",
   "language": "python",
   "name": "python3"
  },
  "language_info": {
   "codemirror_mode": {
    "name": "ipython",
    "version": 3
   },
   "file_extension": ".py",
   "mimetype": "text/x-python",
   "name": "python",
   "nbconvert_exporter": "python",
   "pygments_lexer": "ipython3",
   "version": "3.11.4"
  }
 },
 "nbformat": 4,
 "nbformat_minor": 5
}
