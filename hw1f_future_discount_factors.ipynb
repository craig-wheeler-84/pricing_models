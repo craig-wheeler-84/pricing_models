{
 "cells": [
  {
   "cell_type": "code",
   "execution_count": 2,
   "id": "c4aa99c6",
   "metadata": {},
   "outputs": [],
   "source": [
    "import numpy as np\n",
    "import pandas as pd\n",
    "import matplotlib.pyplot as plt\n",
    "\n",
    "data = pd.read_csv('usd_curve.csv')\n",
    "times = data['t'].values\n",
    "df = data['df'].values\n",
    "\n",
    "class HullWhite():\n",
    "    def __init__(self, a, sigma, timesteps, x0=0):\n",
    "        self.a = a\n",
    "        self.sigma = sigma\n",
    "        self.timesteps = timesteps\n",
    "        self.x0 = x0\n",
    "        \n",
    "    def hw_exp(self, x, t1, t2):\n",
    "        return x * np.exp(-self.a * (t2 - t1))\n",
    "    \n",
    "    def hw_var(self, t1, t2):\n",
    "        return self.sigma ** 2 * (1 - np.exp(-2 * self.a * (t2 - t1))) / (2 * self.a)\n",
    "\n",
    "    def MC(self, sims):\n",
    "        x = np.zeros((sims, self.timesteps))\n",
    "        for i in range(sims):\n",
    "            x[i,0] = self.x0\n",
    "            for j in range(1, self.timesteps):\n",
    "                Z1 = np.random.normal(0,1)\n",
    "                x[i,j] = self.hw_exp(x[i,j-1], j-1, j) + Z1 * (self.hw(j-1,j) ** 0.5)\n",
    "        return x     \n",
    "    \n"
   ]
  },
  {
   "cell_type": "code",
   "execution_count": 3,
   "id": "8ff6daf9",
   "metadata": {},
   "outputs": [],
   "source": [
    "class DiscountFactors():\n",
    "    def __init__(self, a, sigma):\n",
    "        self.a = a\n",
    "        self.sigma = sigma\n",
    "        \n",
    "    def q_t(self, t, T):\n",
    "         return (1 - np.exp(-self.a * (T - t))) / self.a\n",
    "\n",
    "    def cov(self, t_i, t_j):\n",
    "        return self.sigma ** 2 * (np.exp(-self.a * abs(t_j - t_i)) - np.exp(-self.a * (t_j + t_i))) / (2 * self.a)\n",
    " \n",
    "    def hw_phi(self, q_val, cov_val):\n",
    "        return sum(q * cov for q, cov in zip(q_values, cov_values))\n",
    "\n",
    "    def hw_gamma(self, tn):\n",
    "        return 0.5 * self.cov(tn, tn)\n",
    "\n",
    "    def interpolated_df(self, t, time, df):\n",
    "        return np.interp(t, time, df)\n",
    "    \n",
    "    def df(self, t_n, T, x_tn, q_val, cov_val):\n",
    "        B_tn = self.interpolated_df(t_n, times, df)\n",
    "        B_T = self.interpolated_df(T, times, df)\n",
    "        if t_n == 0:\n",
    "            discount_factor = B_T / B_tn \n",
    "        else:\n",
    "            phi = self.hw_phi(q_val, cov_val)\n",
    "            gamma = self.hw_gamma(t_n)\n",
    "            q_tn = self.q_t(t_n, T)\n",
    "            discount_factor = (B_T / B_tn) * np.exp(-(x_tn + phi) * q_tn - gamma * (q_tn ** 2))\n",
    "        return discount_factor\n",
    "        "
   ]
  },
  {
   "cell_type": "code",
   "execution_count": null,
   "id": "afdb602b",
   "metadata": {},
   "outputs": [],
   "source": [
    "# build discount factors "
   ]
  }
 ],
 "metadata": {
  "kernelspec": {
   "display_name": "Python 3 (ipykernel)",
   "language": "python",
   "name": "python3"
  },
  "language_info": {
   "codemirror_mode": {
    "name": "ipython",
    "version": 3
   },
   "file_extension": ".py",
   "mimetype": "text/x-python",
   "name": "python",
   "nbconvert_exporter": "python",
   "pygments_lexer": "ipython3",
   "version": "3.11.4"
  }
 },
 "nbformat": 4,
 "nbformat_minor": 5
}
