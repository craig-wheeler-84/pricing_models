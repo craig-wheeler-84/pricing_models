{
 "cells": [
  {
   "cell_type": "code",
   "execution_count": null,
   "id": "c93a7e36",
   "metadata": {},
   "outputs": [],
   "source": [
    "#Valuation Functions\n",
    "\n",
    "import numpy as np\n",
    "import pandas as pd\n",
    "\n",
    "def black_scholes(S, K, T, r, sigma, option_type='call'):\n",
    "\n",
    "    d1 = (np.log(S / K) + (r + 0.5 * sigma**2) * T) / (sigma * np.sqrt(T))\n",
    "    d2 = d1 - sigma * np.sqrt(T)\n",
    "\n",
    "    if option_type == 'call':\n",
    "        N_d1 = norm.cdf(d1)\n",
    "        N_d2 = norm.cdf(d2)\n",
    "        option_price = S * N_d1 - K * np.exp(-r * T) * N_d2\n",
    "    elif option_type == 'put':\n",
    "        N_d1 = norm.cdf(-d1)\n",
    "        N_d2 = norm.cdf(-d2)\n",
    "        option_price = K * np.exp(-r * T) * N_d2 - S * N_d1\n",
    "    else:\n",
    "        raise ValueError(\"Option type must be 'call' or 'put'.\")\n",
    "\n",
    "    return option_price"
   ]
  },
  {
   "cell_type": "code",
   "execution_count": 45,
   "id": "fae85791",
   "metadata": {},
   "outputs": [
    {
     "name": "stdout",
     "output_type": "stream",
     "text": [
      "-2.3692852407607754\n"
     ]
    }
   ],
   "source": [
    "# VaR and ES Modelling - very basic - full revaluation - one option\n",
    "\n",
    "#%store scenarios\n",
    "#%run \"C:\\Users\\Laptop\\equity_local_vol_bs.ipynb\"\n",
    "#from equity_local_vol_bs import scenarios\n",
    "\n",
    "np.random.seed(42)\n",
    "\n",
    "#today's market\n",
    "spot_price = 100\n",
    "strike_price = 100\n",
    "time_to_maturity = 10\n",
    "drift = 0\n",
    "vol = 0.2\n",
    "price = black_scholes(spot_price, strike_price, time_to_maturity, drift, vol, \"call\")\n",
    "\n",
    "# Define parameters\n",
    "n_days = 252   #252  # Number of trading days in a year\n",
    "confidence_level = 0.99  # Confidence level for VaR and ES\n",
    "\n",
    "shocked_spot = np.zeros(n_days)\n",
    "pnl = np.zeros(n_days)\n",
    "\n",
    "# simulated lognormal returns of spot based on normal distribution with following parameters for delta\n",
    "returns_delta = np.random.normal(loc=0, scale=0.02, size=n_days)\n",
    "\n",
    "for i in range(len(returns_delta)):\n",
    "    shocked_spot[i] = spot_price * np.exp(returns_delta[i])\n",
    "    pnl[i] = black_scholes(shocked_spot[i], strike_price, time_to_maturity, drift, vol, \"call\") - price\n",
    "       \n",
    "#calculate VaR and ES\n",
    "\n",
    "var = np.percentile(pnl, 100 - confidence_level * 100)\n",
    "\n",
    "print(var)\n",
    "\n",
    "\n",
    "\n",
    "\n",
    "\n",
    "\n",
    "\n",
    "\n",
    "\n",
    "\n"
   ]
  },
  {
   "cell_type": "code",
   "execution_count": null,
   "id": "8f9066d3",
   "metadata": {},
   "outputs": [],
   "source": []
  },
  {
   "cell_type": "code",
   "execution_count": null,
   "id": "f8a3d44f",
   "metadata": {},
   "outputs": [],
   "source": []
  }
 ],
 "metadata": {
  "kernelspec": {
   "display_name": "Python 3 (ipykernel)",
   "language": "python",
   "name": "python3"
  },
  "language_info": {
   "codemirror_mode": {
    "name": "ipython",
    "version": 3
   },
   "file_extension": ".py",
   "mimetype": "text/x-python",
   "name": "python",
   "nbconvert_exporter": "python",
   "pygments_lexer": "ipython3",
   "version": "3.11.4"
  }
 },
 "nbformat": 4,
 "nbformat_minor": 5
}
