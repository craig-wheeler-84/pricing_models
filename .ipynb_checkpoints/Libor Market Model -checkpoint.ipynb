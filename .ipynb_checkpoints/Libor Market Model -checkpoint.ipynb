{
 "cells": [
  {
   "cell_type": "code",
   "execution_count": 51,
   "id": "13f290c0",
   "metadata": {},
   "outputs": [
    {
     "name": "stdout",
     "output_type": "stream",
     "text": [
      "224785.7515105168\n",
      "449571.5030210336\n",
      "674357.2545315505\n",
      "899143.0060420672\n",
      "1123928.757552584\n"
     ]
    }
   ],
   "source": [
    "import pandas as pd\n",
    "import numpy as np\n",
    "\n",
    "data = pd.read_csv('LMM_data1.csv')\n",
    "\n",
    "times = data['t'].values\n",
    "fwd0 = data['fwd'].values\n",
    "\n",
    "#print(fwd0)\n",
    "days = 252\n",
    "\n",
    "periods = 5\n",
    "Nums = periods \n",
    "sim = 5\n",
    "fwd = np.zeros((sim, Nums, periods))\n",
    "Dev = np.zeros((sim, Nums))\n",
    "Timestep = np.zeros(periods + 1)\n",
    "correl = np.zeros(periods + 1)\n",
    "fwdvol = np.zeros(periods + 1)\n",
    "Notional = np.zeros(periods + 1)\n",
    "fixed_rate = np.zeros(periods + 1)\n",
    "df = np.zeros((sim, Nums, periods + 1))\n",
    "MtM = np.zeros((sim, periods))\n",
    "sumfxd = 0\n",
    "sumflt = 0\n",
    "Orgsumfxd = 0\n",
    "Orgsumflt = 0\n",
    "\n",
    "\n",
    "for k in range(periods + 1):\n",
    "    Timestep[k] = 1\n",
    "    correl[k] = 1\n",
    "    fwdvol[k] = 0.2\n",
    "    fixed_rate[k]= 0.05\n",
    "    Notional[k] = 1000000\n",
    "    \n",
    "#print(Timestep)\n",
    "\n",
    "\n",
    "for i in range(sim):\n",
    "    df[i, 0, 0] = 1\n",
    "    j = 0\n",
    "    for k in range(periods):\n",
    "        fwd[i, 0, k] = fwd0[k]\n",
    "        df[i, j, k + 1] = np.exp(-fwd[i, j, k] * Timestep[k]) * df[i, j, k]\n",
    "        Orgsumfxd += Notional[k] * fixed_rate[k] * df[i, j, k + 1]\n",
    "        Orgsumflt += Notional[k] * fwd[i, j, k] * df[i, j, k + 1]\n",
    "\n",
    "    print(Orgsumfxd)\n",
    "    #print(Orgsumflt)\n",
    "\n",
    "    for j in range(1, periods):\n",
    "        drift = 0    \n",
    "        for k in range(j, periods):\n",
    "            Z1 = np.random.normal(0,1)\n",
    "            drift += (Timestep[k-1] * fwd[i, j-1, k] * fwdvol[j] * correl[k-1]) / (1 + fwd[i, j-1, k] * Timestep[k-1]) \n",
    "            fwd[i, j, k] = fwd[i, j-1, k] * np.exp((drift * fwdvol[k-1] - 0.5 * fwdvol[k-1] ** 2) * Timestep[k-1] + fwdvol[k-1] * Timestep[k-1] ** 0.5 * Z1)\n",
    "            df[i, j, j] = 1\n",
    "            df[i, j, k + 1] = np.exp(fwd[i, j, k] * Timestep[k]) * df[i, j, k]\n",
    "            \n",
    "            sumfxd += Timestep[k] * Notional[k] * fixed_rate[k] * df[i, j, k + 1]\n",
    "            sumflt += Timestep[k] * Notional[k] * fwd[i, j, k] * df[i, j, k + 1]\n",
    "            \n",
    "        MtM[i, j] = sumfxd - sumflt\n",
    "    \n",
    "#print(df)\n",
    "#print(fwd)\n",
    "\n",
    "#print(MtM)\n",
    "#these shouldnt be 1's"
   ]
  },
  {
   "cell_type": "code",
   "execution_count": null,
   "id": "ba06ea69",
   "metadata": {},
   "outputs": [],
   "source": []
  },
  {
   "cell_type": "code",
   "execution_count": null,
   "id": "1555dbca",
   "metadata": {},
   "outputs": [],
   "source": []
  },
  {
   "cell_type": "code",
   "execution_count": 12,
   "id": "70536acd",
   "metadata": {},
   "outputs": [
    {
     "name": "stdout",
     "output_type": "stream",
     "text": [
      "C:\\Users\\Laptop\\pricing_models\n"
     ]
    }
   ],
   "source": [
    "import os\n",
    "current_path = os.getcwd()\n",
    "print(current_path)"
   ]
  },
  {
   "cell_type": "code",
   "execution_count": null,
   "id": "59389ec3",
   "metadata": {},
   "outputs": [],
   "source": []
  }
 ],
 "metadata": {
  "kernelspec": {
   "display_name": "Python 3 (ipykernel)",
   "language": "python",
   "name": "python3"
  },
  "language_info": {
   "codemirror_mode": {
    "name": "ipython",
    "version": 3
   },
   "file_extension": ".py",
   "mimetype": "text/x-python",
   "name": "python",
   "nbconvert_exporter": "python",
   "pygments_lexer": "ipython3",
   "version": "3.11.4"
  }
 },
 "nbformat": 4,
 "nbformat_minor": 5
}
