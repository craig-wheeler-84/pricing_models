{
 "cells": [
  {
   "cell_type": "code",
   "execution_count": 12,
   "id": "319f2699",
   "metadata": {},
   "outputs": [
    {
     "name": "stdout",
     "output_type": "stream",
     "text": [
      "[[ 0.         -0.01363752 -0.00012551  0.03128666 -0.00409036]\n",
      " [ 0.          0.00873456 -0.00993702 -0.02290479 -0.0235497 ]\n",
      " [ 0.          0.04826115  0.01956015  0.05207341  0.03786427]\n",
      " [ 0.         -0.00359945 -0.01108904 -0.01528999 -0.01629752]\n",
      " [ 0.         -0.01057263  0.00581967  0.00468881  0.02283823]]\n"
     ]
    }
   ],
   "source": [
    "import numpy as np\n",
    "import pandas as pd\n",
    "import matplotlib.pyplot as plt\n",
    "\n",
    "data = pd.read_csv('usd_curve_basic.csv')\n",
    "times = data['t'].values\n",
    "df0 = data['df'].values\n",
    "sims = 5\n",
    "timesteps = 5 \n",
    "x0 = 0\n",
    "a = 0.1\n",
    "sig = 0.02\n",
    "\n",
    "#print(df0)\n",
    "\n",
    "def hw_exp(a, x, t1, t2):\n",
    "    return x * np.exp(-a * (t2 - t1))\n",
    "\n",
    "def hw_var(a, sig, t1, t2):\n",
    "    return sig ** 2 * (1 - np.exp(-2 * a * (t2 - t1))) / (2 * a)\n",
    "\n",
    "x = np.zeros((sims, timesteps))\n",
    "    \n",
    "for i in range(sims):\n",
    "    x[i,0] = x0\n",
    "    for j in range(1, timesteps):\n",
    "        Z1 = np.random.normal(0,1)\n",
    "        x[i,j] = hw_exp(a, x[i,j-1], j-1, j) + Z1 * (hw_var(a, sig, j-1, j) ** 0.5) # possible need a rt time in here\n",
    "            \n",
    "print(x)"
   ]
  },
  {
   "cell_type": "code",
   "execution_count": 4,
   "id": "eb0c3979",
   "metadata": {},
   "outputs": [],
   "source": [
    "# discount factors\n",
    "# j is one timestep before point we are calculating - THIS MIGHT NEED CORRECTING\n",
    "\n",
    "def cov(sig, i, j):\n",
    "    return sig ** 2 * (np.exp(-a * abs(j - i)) - np.exp(-a * (j + i))) / (2 * a)\n",
    "\n",
    "def q(a, i, j):\n",
    "    return (1 - np.exp(-a * (j - i))) / a\n",
    "\n",
    "def phi(sig, j):\n",
    "    phi = 0\n",
    "    for i in range(j - 1):\n",
    "        phi += q(i) * cov(sig, i, j)\n",
    "    return phi\n",
    "    \n",
    "def gamma(j):\n",
    "    return 0.5 * cov(j, j)\n",
    "    \n",
    "def hwdf(t, T, x, a, sig):\n",
    "    B_tn = self.interpolated_df(t, times, df0)\n",
    "    B_T = self.interpolated_df(T, times, df0)\n",
    "    if t == 0:\n",
    "        discount_factor = B_T / B_tn \n",
    "    else:\n",
    "        discount_factor = (B_T / B_tn) * np.exp(- (x + phi(sig, t)) * q(t, T) - (gamma(t) * q(t, T) ** 2) )\n",
    "    "
   ]
  },
  {
   "cell_type": "code",
   "execution_count": 19,
   "id": "5ead5c56",
   "metadata": {},
   "outputs": [
    {
     "data": {
      "text/plain": [
       "1.0"
      ]
     },
     "execution_count": 19,
     "metadata": {},
     "output_type": "execute_result"
    }
   ],
   "source": [
    "for i in range(sims):\n",
    "    for j in range(timesteps):\n",
    "        for k in range(timesteps):\n"
   ]
  },
  {
   "cell_type": "code",
   "execution_count": null,
   "id": "cd03d0fe",
   "metadata": {},
   "outputs": [],
   "source": []
  }
 ],
 "metadata": {
  "kernelspec": {
   "display_name": "Python 3 (ipykernel)",
   "language": "python",
   "name": "python3"
  },
  "language_info": {
   "codemirror_mode": {
    "name": "ipython",
    "version": 3
   },
   "file_extension": ".py",
   "mimetype": "text/x-python",
   "name": "python",
   "nbconvert_exporter": "python",
   "pygments_lexer": "ipython3",
   "version": "3.11.4"
  }
 },
 "nbformat": 4,
 "nbformat_minor": 5
}
