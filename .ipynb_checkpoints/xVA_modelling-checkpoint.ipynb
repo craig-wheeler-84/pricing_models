{
 "cells": [
  {
   "cell_type": "code",
   "execution_count": 33,
   "id": "12bdf687",
   "metadata": {},
   "outputs": [
    {
     "name": "stdout",
     "output_type": "stream",
     "text": [
      "5.100530726574605\n"
     ]
    }
   ],
   "source": [
    "#basic CVA modelling\n",
    "\n",
    "#Get EPE's from pricing modules\n",
    "\n",
    "import numpy as np\n",
    "import pandas as pd\n",
    "import matplotlib.pyplot as plt\n",
    "from scipy.interpolate import CubicSpline\n",
    "\n",
    "dfExp = pd.read_csv('exposure_results.csv')\n",
    "\n",
    "EPE = dfExp['EPE'].values\n",
    "ENE = dfExp['ENE'].values\n",
    "\n",
    "#print(EPE)\n",
    "#print(ENE)\n",
    "\n",
    "recovery = 0.4\n",
    "\n",
    "#Default probabilities - CDS Spreads\n",
    "\n",
    "data = pd.read_csv(\"CDS_data.csv\")\n",
    "time = data['Tenor'].values\n",
    "CDS = data['CDS_Spread'].values\n",
    "haz_Rates = data['Hazard_rate'].values\n",
    "\n",
    "cs = CubicSpline(time, CDS)\n",
    "\n",
    "timesteps = np.arange(0, 10.05, 0.25)\n",
    "df = np.linspace(1, 0.9, len(timesteps))\n",
    "spread = cs(timesteps)\n",
    "survival = np.exp((-spread * timesteps)/(1 - recovery))\n",
    "default = 1 - survival\n",
    "\n",
    "#print(default)\n",
    "#Default probabilities - piecewise hazard rates\n",
    "    \n",
    "def gethazardrate(t, time_intervals, haz_Rates):\n",
    "    for i in range(len(time_intervals) - 1):\n",
    "        if t >= time_intervals[i] and t < time_intervals[i + 1]:\n",
    "            return haz_Rates[i]\n",
    "    return haz_Rates[-1]  \n",
    "\n",
    "hazr = np.zeros(len(timesteps))\n",
    "survival_haz = np.zeros(len(timesteps))\n",
    "\n",
    "for i in range(len(timesteps)):\n",
    "    hazr[i] = gethazardrate(timesteps[i], time, haz_Rates)\n",
    "\n",
    "#print(hazr)\n",
    "survival_haz[0] =  1\n",
    "\n",
    "for i in range(1, len(timesteps)):\n",
    "    dt = timesteps[i] - timesteps[i-1]\n",
    "    survival_haz[i] = np.exp(-hazr[i] * dt) * survival_haz[i-1]\n",
    "    \n",
    "#CVA from CDS spreads\n",
    "\n",
    "#print(len(EPE))\n",
    "#print(len(survival_haz))\n",
    "#print(survival_haz)\n",
    "\n",
    "CVA = 0\n",
    "\n",
    "for i in range(len(timesteps) - 1):\n",
    "    CVA += EPE[i] * (default[i + 1] - default[i]) * df[i] * (1 - recovery)\n",
    "    \n",
    "print(CVA)\n",
    "\n",
    "#Wrong Way Risk Calculation\n",
    "\n"
   ]
  },
  {
   "cell_type": "code",
   "execution_count": 32,
   "id": "ceae9581",
   "metadata": {},
   "outputs": [],
   "source": [
    "data = pd.read_csv(\"EPE.csv\")\n",
    "time = data['Time'].values\n",
    "CDS = data['EPE'].values\n",
    "\n"
   ]
  },
  {
   "cell_type": "code",
   "execution_count": null,
   "id": "e49af20b",
   "metadata": {},
   "outputs": [],
   "source": []
  },
  {
   "cell_type": "code",
   "execution_count": null,
   "id": "6b76fb4b",
   "metadata": {},
   "outputs": [],
   "source": [
    "\n",
    "            "
   ]
  },
  {
   "cell_type": "code",
   "execution_count": null,
   "id": "fb8d8abc",
   "metadata": {},
   "outputs": [],
   "source": []
  }
 ],
 "metadata": {
  "kernelspec": {
   "display_name": "Python 3 (ipykernel)",
   "language": "python",
   "name": "python3"
  },
  "language_info": {
   "codemirror_mode": {
    "name": "ipython",
    "version": 3
   },
   "file_extension": ".py",
   "mimetype": "text/x-python",
   "name": "python",
   "nbconvert_exporter": "python",
   "pygments_lexer": "ipython3",
   "version": "3.11.4"
  }
 },
 "nbformat": 4,
 "nbformat_minor": 5
}
