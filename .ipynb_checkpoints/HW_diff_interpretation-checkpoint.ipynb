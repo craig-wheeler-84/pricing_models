{
 "cells": [
  {
   "cell_type": "code",
   "execution_count": 29,
   "id": "01cff959",
   "metadata": {},
   "outputs": [
    {
     "ename": "IndexError",
     "evalue": "index 41 is out of bounds for axis 0 with size 41",
     "output_type": "error",
     "traceback": [
      "\u001b[1;31m---------------------------------------------------------------------------\u001b[0m",
      "\u001b[1;31mIndexError\u001b[0m                                Traceback (most recent call last)",
      "Cell \u001b[1;32mIn[29], line 34\u001b[0m\n\u001b[0;32m     31\u001b[0m     B[i] \u001b[38;5;241m=\u001b[39m (\u001b[38;5;241m1\u001b[39m \u001b[38;5;241m-\u001b[39m np\u001b[38;5;241m.\u001b[39mexp(\u001b[38;5;241m-\u001b[39ma \u001b[38;5;241m*\u001b[39m timesteps[i])) \u001b[38;5;241m/\u001b[39m a\n\u001b[0;32m     33\u001b[0m \u001b[38;5;28;01mfor\u001b[39;00m i \u001b[38;5;129;01min\u001b[39;00m \u001b[38;5;28mrange\u001b[39m(i, \u001b[38;5;28mlen\u001b[39m(timesteps)):\n\u001b[1;32m---> 34\u001b[0m     fwdswapval \u001b[38;5;241m=\u001b[39m np\u001b[38;5;241m.\u001b[39msum(df[i:\u001b[38;5;28mlen\u001b[39m(timesteps)]) \u001b[38;5;241m*\u001b[39m dt[i] \u001b[38;5;241m*\u001b[39m fixed_rate \u001b[38;5;241m-\u001b[39m (df[i] \u001b[38;5;241m-\u001b[39m df[\u001b[38;5;28mlen\u001b[39m(timesteps)])\n\u001b[0;32m     37\u001b[0m \u001b[38;5;28mprint\u001b[39m(B)\n",
      "\u001b[1;31mIndexError\u001b[0m: index 41 is out of bounds for axis 0 with size 41"
     ]
    }
   ],
   "source": [
    "#HW implementation\n",
    "\n",
    "import numpy as np\n",
    "import pandas as pd\n",
    "import matplotlib.pyplot as plt\n",
    "from scipy.interpolate import CubicSpline\n",
    "\n",
    "t = [0.25, 0.5, 1, 2, 3, 5, 7, 10, 20]\n",
    "zero_curve = [0.008, 0.0085, 0.0092, 0.01,  0.0106, 0.0119, 0.0132, 0.015, 0.02]\n",
    "\n",
    "sig = 0.01\n",
    "a = 0.1\n",
    "fixed_rate = 0.0149\n",
    "\n",
    "timesteps = np.arange(0, 10.25, 0.25)\n",
    "\n",
    "cs = CubicSpline(t, zero_curve)\n",
    "short_rate = cs(timesteps)\n",
    "df = np.exp(- timesteps * short_rate)\n",
    "\n",
    "dt = np.zeros(len(timesteps) - 1)\n",
    "fwd = np.zeros(len(timesteps) - 1)\n",
    "beta = np.zeros(len(timesteps) -  1)\n",
    "B = np.zeros(len(timesteps) - 1)\n",
    "fwdswapval = np.zeros(len(timesteps) - 1)\n",
    "\n",
    "for i in range(len(timesteps) - 1):\n",
    "    dt[i] = timesteps[i + 1] - timesteps[i]\n",
    "    fwd[i] = -np.log(df[i + 1]/df[i])/dt[i]\n",
    "    beta[i] = fwd[i] + (sig * (1 - np.exp(-a *  timesteps[i]))/ (a * np.sqrt(2)))**2\n",
    "    B[i] = (1 - np.exp(-a * timesteps[i])) / a\n",
    "\n",
    "for i in range(i, len(timesteps) - 1):\n",
    "    fwdswapval = np.sum(df[i:len(timesteps)]) * dt[i] * fixed_rate - (df[i] - df[len(timesteps)])\n",
    "    \n",
    "# LOOK INTO FORWARD RATE BEING DELTA FROM EXPIRY TO TODAY OF DF'S - THINK IT MAKES SENSE\n",
    "    \n",
    "   \n",
    "print(B)\n"
   ]
  },
  {
   "cell_type": "code",
   "execution_count": null,
   "id": "616019ef",
   "metadata": {},
   "outputs": [],
   "source": []
  }
 ],
 "metadata": {
  "kernelspec": {
   "display_name": "Python 3 (ipykernel)",
   "language": "python",
   "name": "python3"
  },
  "language_info": {
   "codemirror_mode": {
    "name": "ipython",
    "version": 3
   },
   "file_extension": ".py",
   "mimetype": "text/x-python",
   "name": "python",
   "nbconvert_exporter": "python",
   "pygments_lexer": "ipython3",
   "version": "3.11.4"
  }
 },
 "nbformat": 4,
 "nbformat_minor": 5
}
